{
 "cells": [
  {
   "cell_type": "markdown",
   "id": "accefa5e",
   "metadata": {},
   "source": [
    "# Analiza svjetskih trendova očekivanog životnog vijeka i faktora koji na njih utječu"
   ]
  },
  {
   "cell_type": "markdown",
   "id": "50ff56c4",
   "metadata": {},
   "source": [
    "## Uvod\n",
    "U ovom eseju proučavamo, koristeći WHO-ove javno dostupne izvore podataka, kako se procjena očekivanog životnog vijeka mijenjala u raznim državama svijeta tijekom nedavne povijesti te pokušavamo identificirati razne paralelne faktore (poput trenda rasta BMI-ja, utjecaja nekih bolesti itd.) koji po mogućnosti sputavaju značajnije povećanje svjetskog prosjeka očekivanog životnog vijeka.\n",
    "Također ćemo se posebno osvrnuti na lokalni trend u Hrvatskoj i pokušati ga korelirati s nekim drugim trendovima za koje postoje pouzdani podaci."
   ]
  },
  {
   "cell_type": "markdown",
   "id": "9151afec",
   "metadata": {},
   "source": [
    "### O WHO-ovom repozitoriju podataka\n",
    "Svjetska zdravstvena organizacija (WHO) održava **Global Health Observatory** (GHO) portal daje pristup raznim statistikama vezanim za zdravlje 194 zemalja članica WHO-a. Pritom je moguć uvid u preko tisuću indikatora za koje se smatraju da najviše utječu na zdravlje diljem svijeta te da se mogu razumno koristiti u komparativne svrhe s povijesnim podacima. Ti indikatori uključuju utjecaj zaraznih bolesti, kvalitetu zdravstvenih sustava, čistoću okoliša i zraka, udio nasilnih zločina itd."
   ]
  },
  {
   "cell_type": "markdown",
   "id": "8e00c5cb",
   "metadata": {},
   "source": [
    "# Analiza globalnih trendova zdravlja"
   ]
  },
  {
   "cell_type": "markdown",
   "id": "4c2b3f5c",
   "metadata": {},
   "source": [
    "Prvo implementiramo neke pomoćne funkcije."
   ]
  },
  {
   "cell_type": "code",
   "execution_count": 19,
   "id": "a94ecd58",
   "metadata": {},
   "outputs": [],
   "source": [
    "import json\n",
    "import pandas as pd\n",
    "import numpy as np\n",
    "import matplotlib as plt\n",
    "import pathlib\n",
    "from urllib.request import urlopen, Request\n",
    "\n",
    "cacheirane_datoteke = []\n",
    "\n",
    "def skini_i_cacheiraj(url: str, ext=\"xml\"):\n",
    "    datoteka = url.split('/')[-1].split('?')[0] + '.' + ext\n",
    "    if datoteka not in cacheirane_datoteke:\n",
    "        r = Request(url, headers={'User-Agent': 'Mozilla/5.0'}) # moramo se pretvarati da smo browser kako bi nam WHO dopustio pristup\n",
    "        with urlopen(r) as konekcija:\n",
    "            pathlib.Path(datoteka).write_bytes(konekcija.read())\n",
    "        cacheirane_datoteke.append(datoteka)\n",
    "        \n",
    "    return datoteka\n",
    "\n",
    "# ovo svakako radi za GHO upite, poput WHOSIS_000001\n",
    "def get_df_from_who_json(url: str, indikator: str, indikator_ključ: str): # moramo ručno obraditi WHO-ov JSON jer se Pandas ne može nositi sa složenošću tog formata\n",
    "    datoteka = skini_i_cacheiraj(url)\n",
    "    "
   ]
  },
  {
   "cell_type": "code",
   "execution_count": 15,
   "id": "2446a48f",
   "metadata": {},
   "outputs": [
    {
     "data": {
      "text/html": [
       "<div>\n",
       "<style scoped>\n",
       "    .dataframe tbody tr th:only-of-type {\n",
       "        vertical-align: middle;\n",
       "    }\n",
       "\n",
       "    .dataframe tbody tr th {\n",
       "        vertical-align: top;\n",
       "    }\n",
       "\n",
       "    .dataframe thead th {\n",
       "        text-align: right;\n",
       "    }\n",
       "</style>\n",
       "<table border=\"1\" class=\"dataframe\">\n",
       "  <thead>\n",
       "    <tr style=\"text-align: right;\">\n",
       "      <th></th>\n",
       "      <th>COUNTRY</th>\n",
       "      <th>GHO</th>\n",
       "      <th>PUBLISHSTATE</th>\n",
       "      <th>REGION</th>\n",
       "      <th>SEX</th>\n",
       "      <th>WORLDBANKINCOMEGROUP</th>\n",
       "      <th>YEAR</th>\n",
       "      <th>Display</th>\n",
       "      <th>Numeric</th>\n",
       "    </tr>\n",
       "  </thead>\n",
       "  <tbody>\n",
       "    <tr>\n",
       "      <th>0</th>\n",
       "      <td>Afghanistan</td>\n",
       "      <td>Life expectancy at birth (years)</td>\n",
       "      <td>Published</td>\n",
       "      <td>Eastern Mediterranean</td>\n",
       "      <td>Male</td>\n",
       "      <td>None</td>\n",
       "      <td>2000</td>\n",
       "      <td>54.6</td>\n",
       "      <td>54.57449</td>\n",
       "    </tr>\n",
       "    <tr>\n",
       "      <th>1</th>\n",
       "      <td>Afghanistan</td>\n",
       "      <td>Life expectancy at birth (years)</td>\n",
       "      <td>Published</td>\n",
       "      <td>Eastern Mediterranean</td>\n",
       "      <td>Female</td>\n",
       "      <td>None</td>\n",
       "      <td>2000</td>\n",
       "      <td>55.4</td>\n",
       "      <td>55.41726</td>\n",
       "    </tr>\n",
       "    <tr>\n",
       "      <th>2</th>\n",
       "      <td>Afghanistan</td>\n",
       "      <td>Life expectancy at birth (years)</td>\n",
       "      <td>Published</td>\n",
       "      <td>Eastern Mediterranean</td>\n",
       "      <td>Both sexes</td>\n",
       "      <td>None</td>\n",
       "      <td>2000</td>\n",
       "      <td>55.0</td>\n",
       "      <td>54.98949</td>\n",
       "    </tr>\n",
       "    <tr>\n",
       "      <th>3</th>\n",
       "      <td>Angola</td>\n",
       "      <td>Life expectancy at birth (years)</td>\n",
       "      <td>Published</td>\n",
       "      <td>Africa</td>\n",
       "      <td>Male</td>\n",
       "      <td>None</td>\n",
       "      <td>2000</td>\n",
       "      <td>46.8</td>\n",
       "      <td>46.77004</td>\n",
       "    </tr>\n",
       "    <tr>\n",
       "      <th>4</th>\n",
       "      <td>Angola</td>\n",
       "      <td>Life expectancy at birth (years)</td>\n",
       "      <td>Published</td>\n",
       "      <td>Africa</td>\n",
       "      <td>Female</td>\n",
       "      <td>None</td>\n",
       "      <td>2000</td>\n",
       "      <td>52.1</td>\n",
       "      <td>52.12018</td>\n",
       "    </tr>\n",
       "  </tbody>\n",
       "</table>\n",
       "</div>"
      ],
      "text/plain": [
       "       COUNTRY                               GHO PUBLISHSTATE  \\\n",
       "0  Afghanistan  Life expectancy at birth (years)    Published   \n",
       "1  Afghanistan  Life expectancy at birth (years)    Published   \n",
       "2  Afghanistan  Life expectancy at birth (years)    Published   \n",
       "3       Angola  Life expectancy at birth (years)    Published   \n",
       "4       Angola  Life expectancy at birth (years)    Published   \n",
       "\n",
       "                  REGION         SEX WORLDBANKINCOMEGROUP  YEAR  Display  \\\n",
       "0  Eastern Mediterranean        Male                 None  2000     54.6   \n",
       "1  Eastern Mediterranean      Female                 None  2000     55.4   \n",
       "2  Eastern Mediterranean  Both sexes                 None  2000     55.0   \n",
       "3                 Africa        Male                 None  2000     46.8   \n",
       "4                 Africa      Female                 None  2000     52.1   \n",
       "\n",
       "    Numeric  \n",
       "0  54.57449  \n",
       "1  55.41726  \n",
       "2  54.98949  \n",
       "3  46.77004  \n",
       "4  52.12018  "
      ]
     },
     "execution_count": 15,
     "metadata": {},
     "output_type": "execute_result"
    }
   ],
   "source": [
    "# probajmo WHOSIS_000001\n",
    "\n",
    "whosis = skini_i_cacheiraj(\"https://apps.who.int/gho/athena/api/GHO/WHOSIS_000001?profile=simple\")\n",
    "df = pd.read_xml(whosis)\n",
    "df.head()"
   ]
  },
  {
   "cell_type": "markdown",
   "id": "88074635",
   "metadata": {},
   "source": [
    "# Analiza lokalnih trendova zdravlja"
   ]
  },
  {
   "cell_type": "markdown",
   "id": "f9e254f9",
   "metadata": {},
   "source": [
    "U ovoj sekciji se fokusiramo na detaljniju analizu faktora koji utječu na zdravlje europskih zemalja tijekom vremena, i to specifično članica Europske unije. Ovdje također spada i Hrvatska, pa ćemo ostaviti posljednji dio ovog rada za detaljniju usporedbu naših trendova s onim ostalih zemalja članica te ćemo dati neke predikcije za skoriju budućnost."
   ]
  },
  {
   "cell_type": "markdown",
   "id": "4bf3d9e1",
   "metadata": {},
   "source": [
    "TODO: za ove podatke koristiti who-euro bazu i sljedeće indikatore (uglavnom iz https://dw.euro.who.int/api/v3/data_sets/HFA a za ono što nije tamo uvije pogledaj referentnu listu na https://dw.euro.who.int/ i najvjerojatnije je pod Health-enhancing physical activity, Environment and Health ili Child and Adolescent Health):\n",
    "* Life expectancy at birth\n",
    "* Population aged 0-14\n",
    "* Population aged 65+\n",
    "* Number of live births\n",
    "* Total fertility rate\n",
    "* Number of all hospital discharges\n",
    "* Private households' out-of-pocket payments on health as proportion of total health expenditure\n",
    "* Total health expenditure as proportion of GDP\n",
    "* Acute (short-stay) hospitals per 100 000\n",
    "* Acute care hospital beds per 100 000\n",
    "* Associate professional nurses, practising, total\n",
    "* Associate professional nursing graduates, total\n",
    "* Beds in publicly owned hospitals, total\n",
    "* Caring personnel, practising or closest concept, total\n",
    "* Computed Tomography Scanners, total\n",
    "* Dentists (PP) per 100 000\n",
    "* Dentists graduates, total\n",
    "* Digital subtraction angiography units, total \tHRes\n",
    "* Gamma cameras, total \tHRes\n",
    "* General hospitals, total \tHRes\n",
    "* General paediatricians, total HRes\n",
    "* General practitioners (PP) per 100 000 \tHFA\n",
    "* Magnetic Resonance Imaging Units, total \tHRes\n",
    "* Mammographs, total \tHRes\n",
    "* Positron Emission Tomography scanners , total \tHRes\n",
    "* Proportion of physicians, both sexes, 65 years old or older \tHRes\n",
    "* Proportion of physicians, both sexes, younger than 35 years \tHRes\n",
    "* Psychiatric hospital beds per 100 000 \tHFA\n",
    "* Psychiatrists, total \t HRes\n",
    "* Radiation therapy equipment, total \tHRes\n",
    "* Abortions per 1000 live births \tHFA\n",
    "* Maternal deaths, according to clinical data \tHFA\n",
    "* Proportion of births attended by skilled health personnel \tHFA\n",
    "* Proportion of infants breastfed at age 3 months \tHFA\n",
    "* Proportion of infants vaccinated against tetanus \tHFA\n",
    "* Proportion of infants vaccinated against tuberculosis \tHFA\n",
    "* Proportion of live births weighing 2500 g or more \tHFA\n",
    "* Microbiological foodborne diseases per 100 000 \tHFA\n",
    "* Number of people injured due to work-related accidents \tHFA\n",
    "* Number of salmonellosis cases \tHFA\n",
    "* Proportion of population with access to sewage system, septic tank or other hygienic means of sewage disposal \tHFA\n",
    "* Proportion of population with homes connected to water supply system \tHFA\n",
    "* Age-standardized prevalence of current tobacco smoking among people aged 15 years and over (WHO estimates) \tHFA\n",
    "* Age-standardized prevalence of overweight (defined as BMI = 25 kg/m2) in people aged 18 years and over (WHO estimates) \tHFA\n",
    "* Average amount of fruits and vegetables available per person per year (kg) \tHFA\n",
    "* Average number of calories available per person per day (kcal) \tHFA\n",
    "* Fat available per person per day (g) \tHFA\n",
    "* First admissions to drug treatment centres per 100 000 \tHFA\n",
    "* Number cigarettes consumed per person per year \tHFA\n",
    "* Number of people killed or injured in road traffic accidents \tHFA\n",
    "* Number of road traffic accidents involving alcohol \tHFA\n",
    "* Protein available per person per day (g) \tHFA\n",
    "* Absenteeism from work due to illness, days per employee per year \tHFA\n",
    "* All cases of mental disorders at year's end \tHFA\n",
    "* Incidence of cancer \tHFA\n",
    "* Number of all cases of diabetes mellitus at year's end \tHFA\n",
    "* SDR, Accidents \tMDB\n",
    "* SDR, All causes \tMDB\n",
    "* SDR, Chronic lower respiratory diseases \tMDB\n",
    "* SDR, diabetes, all ages \tHFA\n",
    "* SDR, diseases of digestive system, all ages \tHFA\n",
    "* SDR, Diseases of nervous system and sense organs \tMDB\n",
    "* SDR, Diseases of the circulatory system \tMDB\n",
    "* SDR, Diseases of the respiratory system \tMDB\n",
    "* SDR, Diseases of the digestive system \tMDB\n",
    "* SDR, endocrine, nutritional and metabolic diseases, all ages \tHFA\n",
    "* SDR, homicide and intentional injury, all ages \tHFA\n",
    "* SDR, infectious and parasitic diseases, all ages \tHFA\n",
    "* SDR, ischaemic heart disease, all ages \tHFA\n",
    "* SDR, mental disorders, diseases of nervous system and sense organs, all ages \tHFA\n",
    "* SDR, motor vehicle traffic accidents, all ages \tHFA\n",
    "* SDR, suicide and self-inflicted injury, all ages \tHFA\n",
    "* \n"
   ]
  },
  {
   "cell_type": "markdown",
   "id": "b7023cae",
   "metadata": {},
   "source": [
    "## Analiza hrvatskih trendova zdravlja i usporedba s ostalim članicama EU"
   ]
  },
  {
   "cell_type": "code",
   "execution_count": null,
   "id": "d563ed86",
   "metadata": {},
   "outputs": [],
   "source": []
  },
  {
   "cell_type": "code",
   "execution_count": null,
   "id": "18e6e2a0",
   "metadata": {},
   "outputs": [],
   "source": []
  },
  {
   "cell_type": "markdown",
   "id": "7f6a9454",
   "metadata": {},
   "source": [
    "# Zaključak"
   ]
  },
  {
   "cell_type": "code",
   "execution_count": null,
   "id": "cd06000e",
   "metadata": {},
   "outputs": [],
   "source": []
  }
 ],
 "metadata": {
  "kernelspec": {
   "display_name": "Python 3 (ipykernel)",
   "language": "python",
   "name": "python3"
  },
  "language_info": {
   "codemirror_mode": {
    "name": "ipython",
    "version": 3
   },
   "file_extension": ".py",
   "mimetype": "text/x-python",
   "name": "python",
   "nbconvert_exporter": "python",
   "pygments_lexer": "ipython3",
   "version": "3.9.13"
  }
 },
 "nbformat": 4,
 "nbformat_minor": 5
}
