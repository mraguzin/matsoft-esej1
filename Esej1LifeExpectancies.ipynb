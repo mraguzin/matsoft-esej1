{
 "cells": [
  {
   "cell_type": "markdown",
   "id": "e3c6058e",
   "metadata": {},
   "source": [
    "# Analiza svjetskih trendova očekivanog životnog vijeka i faktora koji na njih utječu"
   ]
  },
  {
   "cell_type": "markdown",
   "id": "153d7e63",
   "metadata": {},
   "source": [
    "## Uvod\n",
    "U ovom eseju proučavamo, koristeći WHO-ove javno dostupne izvore podataka, kako se procjena očekivanog životnog vijeka mijenjala u raznim državama svijeta tijekom nedavne povijesti te pokušavamo identificirati razne paralelne faktore (poput trenda rasta BMI-ja, utjecaja nekih bolesti itd.) koji po mogućnosti sputavaju značajnije povećanje svjetskog prosjeka očekivanog životnog vijeka.\n",
    "Također ćemo se posebno osvrnuti na lokalni trend u Hrvatskoj i pokušati ga korelirati s nekim drugim trendovima za koje postoje pouzdani podaci."
   ]
  },
  {
   "cell_type": "code",
   "execution_count": null,
   "id": "c34179de",
   "metadata": {},
   "outputs": [],
   "source": []
  }
 ],
 "metadata": {
  "kernelspec": {
   "display_name": "Python 3 (ipykernel)",
   "language": "python",
   "name": "python3"
  },
  "language_info": {
   "codemirror_mode": {
    "name": "ipython",
    "version": 3
   },
   "file_extension": ".py",
   "mimetype": "text/x-python",
   "name": "python",
   "nbconvert_exporter": "python",
   "pygments_lexer": "ipython3",
   "version": "3.9.13"
  }
 },
 "nbformat": 4,
 "nbformat_minor": 5
}
